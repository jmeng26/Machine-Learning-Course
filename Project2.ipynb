{
 "cells": [
  {
   "cell_type": "markdown",
   "metadata": {},
   "source": [
    "# BIOS 534 homework2"
   ]
  },
  {
   "cell_type": "markdown",
   "metadata": {},
   "source": [
    "#### 1. Loading the data and preprocessing"
   ]
  },
  {
   "cell_type": "code",
   "execution_count": 25,
   "metadata": {},
   "outputs": [
    {
     "name": "stdout",
     "output_type": "stream",
     "text": [
      "1.13.1\n",
      "sys.version_info(major=3, minor=7, micro=4, releaselevel='final', serial=0)\n"
     ]
    }
   ],
   "source": [
    "import warnings\n",
    "warnings.filterwarnings('ignore')\n",
    "import matplotlib as mpl\n",
    "import matplotlib.pyplot as plt \n",
    "%matplotlib inline\n",
    "import tensorflow as tf\n",
    "from tensorflow import keras \n",
    "import numpy as np\n",
    "import sklearn\n",
    "from sklearn.model_selection import train_test_split\n",
    "from hyperas import optim\n",
    "from hyperas.distributions import choice\n",
    "from hyperopt import Trials, STATUS_OK, tpe\n",
    "import pandas as pd\n",
    "import sys, os, shutil\n",
    "print(tf.__version__)\n",
    "print(sys.version_info)"
   ]
  },
  {
   "cell_type": "code",
   "execution_count": 26,
   "metadata": {},
   "outputs": [],
   "source": [
    "fashion_mnist = keras.datasets.fashion_mnist\n",
    "(train_images_all, train_labels_all), (test_images, test_labels) =fashion_mnist.load_data()\n",
    "\n",
    "train_images, valid_images, train_labels, valid_labels =train_test_split(train_images_all, train_labels_all,\n",
    "                                                                         test_size=0.2, random_state=42)\n",
    "\n",
    "# scale data\n",
    "train_images = train_images / 255.0\n",
    "valid_images = valid_images /255.0\n",
    "test_images = test_images / 255.0"
   ]
  },
  {
   "cell_type": "code",
   "execution_count": 27,
   "metadata": {},
   "outputs": [
    {
     "data": {
      "text/plain": [
       "60000"
      ]
     },
     "execution_count": 27,
     "metadata": {},
     "output_type": "execute_result"
    }
   ],
   "source": [
    "# Number of images in the training set and the testing set.\n",
    "train_images_all.shape[0]"
   ]
  },
  {
   "cell_type": "code",
   "execution_count": 28,
   "metadata": {},
   "outputs": [
    {
     "data": {
      "text/plain": [
       "10000"
      ]
     },
     "execution_count": 28,
     "metadata": {},
     "output_type": "execute_result"
    }
   ],
   "source": [
    "test_images.shape[0]"
   ]
  },
  {
   "cell_type": "code",
   "execution_count": 29,
   "metadata": {},
   "outputs": [
    {
     "data": {
      "text/plain": [
       "10"
      ]
     },
     "execution_count": 29,
     "metadata": {},
     "output_type": "execute_result"
    }
   ],
   "source": [
    "# Number of classes in the training set and the testing set\n",
    "len(np.unique(train_labels_all))"
   ]
  },
  {
   "cell_type": "code",
   "execution_count": 30,
   "metadata": {},
   "outputs": [
    {
     "data": {
      "text/plain": [
       "10"
      ]
     },
     "execution_count": 30,
     "metadata": {},
     "output_type": "execute_result"
    }
   ],
   "source": [
    "len(np.unique(test_labels))"
   ]
  },
  {
   "cell_type": "markdown",
   "metadata": {},
   "source": [
    "#### 2. Fully connected neural network"
   ]
  },
  {
   "cell_type": "code",
   "execution_count": 31,
   "metadata": {},
   "outputs": [],
   "source": [
    "def data():\n",
    "    fashion_mnist = keras.datasets.fashion_mnist\n",
    "    (x_train, y_train), (X_test, y_test) = fashion_mnist.load_data()\n",
    "    x_train, x_valid, y_train, y_valid = train_test_split(x_train, y_train,test_size=0.2,random_state=42)\n",
    "    X_train = x_train / 255.0\n",
    "    X_valid = x_valid /255.0\n",
    "    return X_train, y_train, X_valid, y_valid      "
   ]
  },
  {
   "cell_type": "code",
   "execution_count": 32,
   "metadata": {},
   "outputs": [
    {
     "name": "stdout",
     "output_type": "stream",
     "text": [
      ">>> Imports:\n",
      "#coding=utf-8\n",
      "\n",
      "try:\n",
      "    import warnings\n",
      "except:\n",
      "    pass\n",
      "\n",
      "try:\n",
      "    import matplotlib as mpl\n",
      "except:\n",
      "    pass\n",
      "\n",
      "try:\n",
      "    import matplotlib.pyplot as plt\n",
      "except:\n",
      "    pass\n",
      "\n",
      "try:\n",
      "    import tensorflow as tf\n",
      "except:\n",
      "    pass\n",
      "\n",
      "try:\n",
      "    from tensorflow import keras\n",
      "except:\n",
      "    pass\n",
      "\n",
      "try:\n",
      "    import numpy as np\n",
      "except:\n",
      "    pass\n",
      "\n",
      "try:\n",
      "    import sklearn\n",
      "except:\n",
      "    pass\n",
      "\n",
      "try:\n",
      "    from sklearn.model_selection import train_test_split\n",
      "except:\n",
      "    pass\n",
      "\n",
      "try:\n",
      "    from hyperas import optim\n",
      "except:\n",
      "    pass\n",
      "\n",
      "try:\n",
      "    from hyperas.distributions import choice\n",
      "except:\n",
      "    pass\n",
      "\n",
      "try:\n",
      "    from hyperopt import Trials, STATUS_OK, tpe\n",
      "except:\n",
      "    pass\n",
      "\n",
      "try:\n",
      "    import pandas as pd\n",
      "except:\n",
      "    pass\n",
      "\n",
      "try:\n",
      "    import sys, os, shutil\n",
      "except:\n",
      "    pass\n",
      "\n",
      "try:\n",
      "    import warnings\n",
      "except:\n",
      "    pass\n",
      "\n",
      "try:\n",
      "    import numpy as np\n",
      "except:\n",
      "    pass\n",
      "\n",
      "try:\n",
      "    import pandas as pd\n",
      "except:\n",
      "    pass\n",
      "\n",
      "try:\n",
      "    import matplotlib.pyplot as plt\n",
      "except:\n",
      "    pass\n",
      "\n",
      "try:\n",
      "    from sklearn.svm import SVC\n",
      "except:\n",
      "    pass\n",
      "\n",
      "try:\n",
      "    from sklearn.model_selection import GridSearchCV\n",
      "except:\n",
      "    pass\n",
      "\n",
      "try:\n",
      "    import warnings\n",
      "except:\n",
      "    pass\n",
      "\n",
      "try:\n",
      "    import pandas as pd\n",
      "except:\n",
      "    pass\n",
      "\n",
      "try:\n",
      "    import numpy as np\n",
      "except:\n",
      "    pass\n",
      "\n",
      "try:\n",
      "    import matplotlib.pyplot as plt\n",
      "except:\n",
      "    pass\n",
      "\n",
      "try:\n",
      "    from sklearn.ensemble import RandomForestClassifier\n",
      "except:\n",
      "    pass\n",
      "\n",
      ">>> Hyperas search space:\n",
      "\n",
      "def get_space():\n",
      "    return {\n",
      "        'activation': hp.choice('activation', ['relu', 'sigmoid']),\n",
      "        'activation_1': hp.choice('activation_1', ['relu', 'sigmoid']),\n",
      "        'optimizer': hp.choice('optimizer', ['adam', 'sgd', 'rmsprop']),\n",
      "    }\n",
      "\n",
      ">>> Data\n",
      "  1: \n",
      "  2: fashion_mnist = keras.datasets.fashion_mnist\n",
      "  3: (x_train, y_train), (X_test, y_test) = fashion_mnist.load_data()\n",
      "  4: x_train, x_valid, y_train, y_valid = train_test_split(x_train, y_train,test_size=0.2,random_state=42)\n",
      "  5: X_train = x_train / 255.0\n",
      "  6: X_valid = x_valid /255.0\n",
      "  7: \n",
      "  8: \n",
      "  9: \n",
      ">>> Resulting replaced keras model:\n",
      "\n",
      "  1: def keras_fmin_fnct(space):\n",
      "  2: \n",
      "  3:     model = keras.models.Sequential()\n",
      "  4:     model.add(keras.layers.Flatten(input_shape=[28, 28]))\n",
      "  5:     model.add(keras.layers.Dense(300, activation=space['activation']))\n",
      "  6:     model.add(keras.layers.Dense(100, activation=space['activation_1']))\n",
      "  7:     model.add(keras.layers.Dense(10, activation='softmax'))\n",
      "  8:     model.compile(loss='sparse_categorical_crossentropy', metrics=['accuracy'],\n",
      "  9:                   optimizer=space['optimizer'])\n",
      " 10:     model.fit(X_train, y_train, epochs=10, verbose=0,validation_data=(X_valid, y_valid))\n",
      " 11:     score, acc = model.evaluate(X_valid, y_valid, verbose=0)\n",
      " 12:     print ('Test accuracy:',acc)\n",
      " 13:     return {'loss': -acc,'status': STATUS_OK, 'model': model}\n",
      " 14: \n",
      "Test accuracy:                                        \n",
      "0.87441665                                            \n",
      "Test accuracy:                                                                   \n",
      "0.8896667                                                                        \n",
      "Test accuracy:                                                                   \n",
      "0.86575                                                                          \n",
      "Test accuracy:                                                                   \n",
      "0.79175                                                                          \n",
      "Test accuracy:                                                                   \n",
      "0.8933333                                                                        \n",
      "Test accuracy:                                                                   \n",
      "0.8875                                                                           \n",
      "Test accuracy:                                                                   \n",
      "0.89166665                                                                       \n",
      "Test accuracy:                                                                   \n",
      "0.88816667                                                                       \n",
      "Test accuracy:                                                                   \n",
      "0.8839167                                                                        \n",
      "Test accuracy:                                                                   \n",
      "0.82816666                                                                       \n",
      "Test accuracy:                                                                    \n",
      "0.79075                                                                           \n",
      "Test accuracy:                                                                    \n",
      "0.87116665                                                                        \n",
      "100%|██████████| 12/12 [09:36<00:00, 48.00s/trial, best loss: -0.8933333158493042]\n"
     ]
    }
   ],
   "source": [
    "def model_select1(X_train, y_train, X_valid, y_valid):\n",
    "    model = keras.models.Sequential()\n",
    "    model.add(keras.layers.Flatten(input_shape=[28, 28]))\n",
    "    model.add(keras.layers.Dense(300, activation={{choice(['relu', 'sigmoid'])}}))\n",
    "    model.add(keras.layers.Dense(100, activation={{choice(['relu', 'sigmoid'])}}))\n",
    "    model.add(keras.layers.Dense(10, activation='softmax'))\n",
    "    model.compile(loss='sparse_categorical_crossentropy', metrics=['accuracy'],\n",
    "                  optimizer={{choice(['adam', 'sgd', 'rmsprop'])}})\n",
    "    model.fit(X_train, y_train, epochs=10, verbose=0,validation_data=(X_valid, y_valid))\n",
    "    score, acc = model.evaluate(X_valid, y_valid, verbose=0)\n",
    "    print ('Test accuracy:',acc)\n",
    "    return {'loss': -acc,'status': STATUS_OK, 'model': model}\n",
    "\n",
    "best_run1, best_model1 = optim.minimize(model=model_select1,\n",
    "                                        data=data,\n",
    "                                        algo=tpe.suggest,\n",
    "                                        max_evals=12,\n",
    "                                        trials=Trials(),\n",
    "                                        notebook_name='hw2')"
   ]
  },
  {
   "cell_type": "code",
   "execution_count": 33,
   "metadata": {},
   "outputs": [
    {
     "name": "stdout",
     "output_type": "stream",
     "text": [
      "{'activation': 0, 'activation_1': 1, 'optimizer': 0}\n"
     ]
    }
   ],
   "source": [
    "print(best_run1)"
   ]
  },
  {
   "cell_type": "code",
   "execution_count": 34,
   "metadata": {},
   "outputs": [
    {
     "name": "stdout",
     "output_type": "stream",
     "text": [
      "Train on 48000 samples, validate on 12000 samples\n",
      "Epoch 1/10\n",
      " - 9s - loss: 0.5118 - acc: 0.8193 - val_loss: 0.4129 - val_acc: 0.8489\n",
      "Epoch 2/10\n",
      " - 6s - loss: 0.3646 - acc: 0.8654 - val_loss: 0.3448 - val_acc: 0.8741\n",
      "Epoch 3/10\n",
      " - 6s - loss: 0.3267 - acc: 0.8790 - val_loss: 0.3326 - val_acc: 0.8792\n",
      "Epoch 4/10\n",
      " - 6s - loss: 0.2973 - acc: 0.8890 - val_loss: 0.3304 - val_acc: 0.8800\n",
      "Epoch 5/10\n",
      " - 6s - loss: 0.2787 - acc: 0.8966 - val_loss: 0.3173 - val_acc: 0.8822\n",
      "Epoch 6/10\n",
      " - 6s - loss: 0.2640 - acc: 0.9009 - val_loss: 0.3197 - val_acc: 0.8834\n",
      "Epoch 7/10\n",
      " - 6s - loss: 0.2503 - acc: 0.9066 - val_loss: 0.3219 - val_acc: 0.8863\n",
      "Epoch 8/10\n",
      " - 6s - loss: 0.2380 - acc: 0.9098 - val_loss: 0.3078 - val_acc: 0.8888\n",
      "Epoch 9/10\n",
      " - 6s - loss: 0.2259 - acc: 0.9148 - val_loss: 0.2938 - val_acc: 0.8949\n",
      "Epoch 10/10\n",
      " - 6s - loss: 0.2189 - acc: 0.9179 - val_loss: 0.3112 - val_acc: 0.8893\n",
      "{'loss': [0.5117634560614824, 0.36455098653584717, 0.32671525598565737, 0.29725250179568924, 0.27872901887943347, 0.2640497048472365, 0.25025018196056287, 0.23796048052608967, 0.2259180794817706, 0.2189158562986801], 'acc': [0.81929165, 0.8653542, 0.87897915, 0.88904166, 0.89664584, 0.9009375, 0.906625, 0.9098333, 0.9148333, 0.91791666], 'val_loss': [0.41290834645430247, 0.344813627799352, 0.33256529994805656, 0.3303906489113967, 0.3172597996791204, 0.31965661522746086, 0.3219271064400673, 0.3078050258954366, 0.29379013005892435, 0.311170947338144], 'val_acc': [0.84891665, 0.87408334, 0.87916666, 0.88, 0.8821667, 0.88341665, 0.88625, 0.88883334, 0.89491665, 0.8893333]}\n"
     ]
    }
   ],
   "source": [
    "model1 = keras.models.Sequential()\n",
    "model1.add(keras.layers.Flatten(input_shape=[28, 28]))\n",
    "model1.add(keras.layers.Dense(300, activation='relu'))\n",
    "model1.add(keras.layers.Dense(100, activation='sigmoid'))\n",
    "model1.add(keras.layers.Dense(10, activation='softmax'))\n",
    "model1.compile(loss=\"sparse_categorical_crossentropy\",optimizer=\"adam\",metrics=[\"accuracy\"])\n",
    "logdir = \"/Users/mengjiawei/Desktop/534/log_dir_classification\"\n",
    "output_model_fn = os.path.join(logdir, \"q1_model1.h5\")\n",
    "callbacks = [\n",
    "    keras.callbacks.TensorBoard(logdir),\n",
    "    keras.callbacks.ModelCheckpoint(output_model_fn, save_best_only=True),\n",
    "    keras.callbacks.EarlyStopping(patience=5, min_delta=1e-3)]\n",
    "\n",
    "history = model1.fit(train_images, train_labels, epochs=10,verbose=2,\n",
    "validation_data=(valid_images, valid_labels),callbacks=callbacks)\n",
    "print(history.history)"
   ]
  },
  {
   "cell_type": "code",
   "execution_count": 35,
   "metadata": {},
   "outputs": [
    {
     "data": {
      "image/png": "[encoded data removed]",
      "text/plain": [
       "<Figure size 576x360 with 1 Axes>"
      ]
     },
     "metadata": {
      "needs_background": "light"
     },
     "output_type": "display_data"
    }
   ],
   "source": [
    "def plot_learning_curves(history):\n",
    "    pd.DataFrame(history.history).plot(figsize=(8, 5))\n",
    "    plt.grid(True)\n",
    "    plt.gca().set_ylim(0, 1)\n",
    "    plt.show()\n",
    "plot_learning_curves(history)"
   ]
  },
  {
   "cell_type": "code",
   "execution_count": 40,
   "metadata": {},
   "outputs": [
    {
     "name": "stdout",
     "output_type": "stream",
     "text": [
      ">>> Imports:\n",
      "#coding=utf-8\n",
      "\n",
      "try:\n",
      "    import warnings\n",
      "except:\n",
      "    pass\n",
      "\n",
      "try:\n",
      "    import matplotlib as mpl\n",
      "except:\n",
      "    pass\n",
      "\n",
      "try:\n",
      "    import matplotlib.pyplot as plt\n",
      "except:\n",
      "    pass\n",
      "\n",
      "try:\n",
      "    import tensorflow as tf\n",
      "except:\n",
      "    pass\n",
      "\n",
      "try:\n",
      "    from tensorflow import keras\n",
      "except:\n",
      "    pass\n",
      "\n",
      "try:\n",
      "    import numpy as np\n",
      "except:\n",
      "    pass\n",
      "\n",
      "try:\n",
      "    import sklearn\n",
      "except:\n",
      "    pass\n",
      "\n",
      "try:\n",
      "    from sklearn.model_selection import train_test_split\n",
      "except:\n",
      "    pass\n",
      "\n",
      "try:\n",
      "    from hyperas import optim\n",
      "except:\n",
      "    pass\n",
      "\n",
      "try:\n",
      "    from hyperas.distributions import choice\n",
      "except:\n",
      "    pass\n",
      "\n",
      "try:\n",
      "    from hyperopt import Trials, STATUS_OK, tpe\n",
      "except:\n",
      "    pass\n",
      "\n",
      "try:\n",
      "    import pandas as pd\n",
      "except:\n",
      "    pass\n",
      "\n",
      "try:\n",
      "    import sys, os, shutil\n",
      "except:\n",
      "    pass\n",
      "\n",
      "try:\n",
      "    import warnings\n",
      "except:\n",
      "    pass\n",
      "\n",
      "try:\n",
      "    import numpy as np\n",
      "except:\n",
      "    pass\n",
      "\n",
      "try:\n",
      "    import pandas as pd\n",
      "except:\n",
      "    pass\n",
      "\n",
      "try:\n",
      "    import matplotlib.pyplot as plt\n",
      "except:\n",
      "    pass\n",
      "\n",
      "try:\n",
      "    from sklearn.svm import SVC\n",
      "except:\n",
      "    pass\n",
      "\n",
      "try:\n",
      "    from sklearn.model_selection import GridSearchCV\n",
      "except:\n",
      "    pass\n",
      "\n",
      "try:\n",
      "    import warnings\n",
      "except:\n",
      "    pass\n",
      "\n",
      "try:\n",
      "    import pandas as pd\n",
      "except:\n",
      "    pass\n",
      "\n",
      "try:\n",
      "    import numpy as np\n",
      "except:\n",
      "    pass\n",
      "\n",
      "try:\n",
      "    import matplotlib.pyplot as plt\n",
      "except:\n",
      "    pass\n",
      "\n",
      "try:\n",
      "    from sklearn.ensemble import RandomForestClassifier\n",
      "except:\n",
      "    pass\n",
      "\n",
      ">>> Hyperas search space:\n",
      "\n",
      "def get_space():\n",
      "    return {\n",
      "        'activation': hp.choice('activation', ['relu', 'sigmoid']),\n",
      "        'activation_1': hp.choice('activation_1', ['relu', 'sigmoid']),\n",
      "        'optimizer': hp.choice('optimizer', ['adam', 'sgd', 'rmsprop']),\n",
      "    }\n",
      "\n",
      ">>> Data\n",
      "  1: \n",
      "  2: fashion_mnist = keras.datasets.fashion_mnist\n",
      "  3: (x_train, y_train), (X_test, y_test) = fashion_mnist.load_data()\n",
      "  4: x_train, x_valid, y_train, y_valid = train_test_split(x_train, y_train,test_size=0.2,random_state=42)\n",
      "  5: X_train = x_train / 255.0\n",
      "  6: X_valid = x_valid /255.0\n",
      "  7: \n",
      "  8: \n",
      "  9: \n",
      ">>> Resulting replaced keras model:\n",
      "\n",
      "  1: def keras_fmin_fnct(space):\n",
      "  2: \n",
      "  3:     model = keras.models.Sequential()\n",
      "  4:     model.add(keras.layers.Flatten(input_shape=[28, 28]))\n",
      "  5:     model.add(keras.layers.Dense(500, activation=\n",
      "  6:                                  space['activation']))\n",
      "  7:     model.add(keras.layers.Dense(200, activation=\n",
      "  8:                                  space['activation_1']))\n",
      "  9:     model.add(keras.layers.Dense(10, activation='softmax'))\n",
      " 10:     model.compile(\n",
      " 11:         loss='sparse_categorical_crossentropy', metrics=['accuracy'],\n",
      " 12:         optimizer=space['optimizer'])\n",
      " 13:     model.fit(X_train, y_train, epochs=10, verbose=0,\n",
      " 14:               validation_data=(X_valid, y_valid))\n",
      " 15:     score, acc = model.evaluate(X_valid, y_valid, verbose=0)\n",
      " 16:     print('Test accuracy:', acc)\n",
      " 17:     return {'loss': -acc,'status': STATUS_OK, 'model': model}\n",
      " 18: \n",
      "Test accuracy:                                        \n",
      "0.8860833                                             \n",
      "Test accuracy:                                                                   \n",
      "0.8944167                                                                        \n",
      "Test accuracy:                                                                   \n",
      "0.87341666                                                                       \n",
      "Test accuracy:                                                                   \n",
      "0.7924167                                                                        \n",
      "Test accuracy:                                                                   \n",
      "0.89433336                                                                       \n",
      "Test accuracy:                                                                   \n",
      "0.87575                                                                          \n",
      "Test accuracy:                                                                   \n",
      "0.8875833                                                                        \n",
      "Test accuracy:                                                                   \n",
      "0.88991666                                                                       \n",
      "Test accuracy:                                                                   \n",
      "0.8890833                                                                        \n",
      "Test accuracy:                                                                   \n",
      "0.83925                                                                          \n",
      "Test accuracy:                                                                    \n",
      "0.792                                                                             \n",
      "Test accuracy:                                                                    \n",
      "0.87175                                                                           \n",
      "100%|██████████| 12/12 [16:57<00:00, 84.83s/trial, best loss: -0.8944166898727417]\n"
     ]
    }
   ],
   "source": [
    "def model_select2(X_train, y_train, X_valid, y_valid):\n",
    "    model = keras.models.Sequential()\n",
    "    model.add(keras.layers.Flatten(input_shape=[28, 28]))\n",
    "    model.add(keras.layers.Dense(500, activation=\n",
    "                                 {{choice(['relu', 'sigmoid'])}}))\n",
    "    model.add(keras.layers.Dense(200, activation=\n",
    "                                 {{choice(['relu', 'sigmoid'])}}))\n",
    "    model.add(keras.layers.Dense(10, activation='softmax'))\n",
    "    model.compile(\n",
    "        loss='sparse_categorical_crossentropy', metrics=['accuracy'],\n",
    "        optimizer={{choice(['adam', 'sgd', 'rmsprop'])}})\n",
    "    model.fit(X_train, y_train, epochs=10, verbose=0,\n",
    "              validation_data=(X_valid, y_valid))\n",
    "    score, acc = model.evaluate(X_valid, y_valid, verbose=0)\n",
    "    print('Test accuracy:', acc)\n",
    "    return {'loss': -acc,'status': STATUS_OK, 'model': model}\n",
    "\n",
    "best_run2, best_model2 = optim.minimize(model=model_select2,\n",
    "                                        data=data,\n",
    "                                        algo=tpe.suggest,\n",
    "                                        max_evals=12,\n",
    "                                        trials=Trials(),\n",
    "                                        notebook_name='hw2')"
   ]
  },
  {
   "cell_type": "code",
   "execution_count": 41,
   "metadata": {},
   "outputs": [
    {
     "name": "stdout",
     "output_type": "stream",
     "text": [
      "{'activation': 1, 'activation_1': 0, 'optimizer': 0}\n"
     ]
    }
   ],
   "source": [
    "print(best_run2)"
   ]
  },
  {
   "cell_type": "code",
   "execution_count": 42,
   "metadata": {},
   "outputs": [
    {
     "name": "stdout",
     "output_type": "stream",
     "text": [
      "Train on 48000 samples, validate on 12000 samples\n",
      "Epoch 1/10\n",
      " - 14s - loss: 0.5236 - acc: 0.8104 - val_loss: 0.4055 - val_acc: 0.8506\n",
      "Epoch 2/10\n",
      " - 10s - loss: 0.3866 - acc: 0.8576 - val_loss: 0.3708 - val_acc: 0.8601\n",
      "Epoch 3/10\n",
      " - 10s - loss: 0.3454 - acc: 0.8726 - val_loss: 0.3449 - val_acc: 0.8698\n",
      "Epoch 4/10\n",
      " - 10s - loss: 0.3150 - acc: 0.8828 - val_loss: 0.3230 - val_acc: 0.8817\n",
      "Epoch 5/10\n",
      " - 10s - loss: 0.2935 - acc: 0.8905 - val_loss: 0.3257 - val_acc: 0.8804\n",
      "Epoch 6/10\n",
      " - 10s - loss: 0.2714 - acc: 0.8978 - val_loss: 0.3153 - val_acc: 0.8853\n",
      "Epoch 7/10\n",
      " - 10s - loss: 0.2566 - acc: 0.9047 - val_loss: 0.3260 - val_acc: 0.8810\n",
      "Epoch 8/10\n",
      " - 10s - loss: 0.2412 - acc: 0.9086 - val_loss: 0.2981 - val_acc: 0.8917\n",
      "Epoch 9/10\n",
      " - 10s - loss: 0.2307 - acc: 0.9125 - val_loss: 0.3075 - val_acc: 0.8903\n",
      "Epoch 10/10\n",
      " - 10s - loss: 0.2164 - acc: 0.9191 - val_loss: 0.3124 - val_acc: 0.8885\n",
      "{'loss': [0.5236237900108099, 0.38655264862378436, 0.3453618210852146, 0.31503410349662103, 0.2935292008842031, 0.27135323148344953, 0.25659156431257724, 0.24118348058064779, 0.23073042918369174, 0.21639500511810184], 'acc': [0.8103542, 0.8575625, 0.8726042, 0.88277084, 0.8905417, 0.89775, 0.90475, 0.9085625, 0.91247916, 0.91910416], 'val_loss': [0.4055207633574804, 0.37080440906683604, 0.3448938262661298, 0.32295098328590394, 0.32565395708878836, 0.315332296003898, 0.32595323587457337, 0.29809805951515833, 0.3074925658305486, 0.3123964779774348], 'val_acc': [0.8505833, 0.86008334, 0.86983335, 0.88175, 0.8804167, 0.88533336, 0.881, 0.89166665, 0.89025, 0.8885]}\n"
     ]
    }
   ],
   "source": [
    "model2 = keras.models.Sequential()\n",
    "model2.add(keras.layers.Flatten(input_shape=[28, 28]))\n",
    "model2.add(keras.layers.Dense(500, activation='sigmoid'))\n",
    "model2.add(keras.layers.Dense(200, activation='relu'))\n",
    "model2.add(keras.layers.Dense(10, activation='softmax'))\n",
    "model2.compile(loss=\"sparse_categorical_crossentropy\",optimizer=\"adam\",metrics=[\"accuracy\"])\n",
    "logdir = \"/Users/mengjiawei/Desktop/534/log_dir_classification\"\n",
    "output_model_fn = os.path.join(logdir, \"q1_model2.h5\")\n",
    "callbacks = [\n",
    "    keras.callbacks.TensorBoard(logdir),\n",
    "    keras.callbacks.ModelCheckpoint(output_model_fn, save_best_only=True),\n",
    "    keras.callbacks.EarlyStopping(patience=5, min_delta=1e-3)]\n",
    "\n",
    "history = model2.fit(train_images, train_labels, epochs=10,verbose=2,\n",
    "validation_data=(valid_images, valid_labels),callbacks=callbacks)\n",
    "print(history.history)"
   ]
  },
  {
   "cell_type": "code",
   "execution_count": 43,
   "metadata": {},
   "outputs": [
    {
     "data": {
      "image/png": "[encoded data removed]",
      "text/plain": [
       "<Figure size 576x360 with 1 Axes>"
      ]
     },
     "metadata": {
      "needs_background": "light"
     },
     "output_type": "display_data"
    }
   ],
   "source": [
    "plot_learning_curves(history)"
   ]
  },
  {
   "cell_type": "markdown",
   "metadata": {},
   "source": [
    "The experiments results between different choices of the model structure shows that the non-linear activation function of ‘ReLU’ and 'sigmoid', the loss function of ‘sparse_categorical_crossentropy’ and the optimizerof ‘sgd’ will lead to the model with highest prediction accuracy.\n",
    "\n",
    "Main benefit of 'ReLU' is that the derivative of ReLu is either 0 or 1, so multiplying by it won't cause weights that are further away from the end result of the loss function to suffer from the vanishing gradient problem. Sigmoid will not blowing up activation but tend to vanish gradient.\n",
    "\n",
    "One advantage of using sparse categorical cross entropy is it saves time in memory as well as computation because it simply uses a single integer for a class, rather than a whole vector.\n",
    "\n",
    "Optimizers perform differently depending on the problem and parametrization. SGD is a good fit to most problem,but in this problem Adam may be better, advantages of Adam include: Relatively low memory requirements (though higher than gradient descent and gradient descent with momentum) and usually works well even with a little tuning of hyperparameters (except alpha)."
   ]
  },
  {
   "cell_type": "markdown",
   "metadata": {},
   "source": [
    "#### 3. Run Support Vector Machine with three different kernels: Radial, polynomial, and sigmoid."
   ]
  },
  {
   "cell_type": "code",
   "execution_count": 44,
   "metadata": {},
   "outputs": [],
   "source": [
    "import warnings\n",
    "warnings.filterwarnings('ignore')\n",
    "import numpy as np\n",
    "import pandas as pd\n",
    "import matplotlib.pyplot as plt\n",
    "from sklearn.svm import SVC\n",
    "from sklearn.model_selection import GridSearchCV"
   ]
  },
  {
   "cell_type": "code",
   "execution_count": 45,
   "metadata": {},
   "outputs": [],
   "source": [
    "#read files\n",
    "f1 = pd.read_csv('/Users/mengjiawei/Desktop/534/hw2/sonar_train1.csv',sep=',', header = None, skiprows = 1)\n",
    "f2 = pd.read_csv('/Users/mengjiawei/Desktop/534/hw2/sonar_test1.csv',sep=',', header = None, skiprows = 1)\n",
    "\n",
    "#read training data\n",
    "X = f1.loc[:,:59].values\n",
    "Y = f1.loc[:,60].values\n",
    "\n",
    "#read testing data\n",
    "X_test = f2.loc[:,:59].values\n",
    "Y_test = f2.loc[:,60].values"
   ]
  },
  {
   "cell_type": "code",
   "execution_count": 47,
   "metadata": {},
   "outputs": [
    {
     "data": {
      "image/png": "[encoded data removed]",
      "text/plain": [
       "<Figure size 432x288 with 1 Axes>"
      ]
     },
     "metadata": {
      "needs_background": "light"
     },
     "output_type": "display_data"
    },
    {
     "name": "stdout",
     "output_type": "stream",
     "text": [
      "radical kernel: \n",
      "error rate = 0.219512 \n",
      "\n"
     ]
    }
   ],
   "source": [
    "#radical kernel\n",
    "grid_r = GridSearchCV(SVC(kernel='rbf'),param_grid={'gamma': np.linspace(0.001,5,100)},cv=10, scoring='accuracy', verbose=0, n_jobs=-1)\n",
    "grid_r.fit(X,Y)\n",
    "er = 1 - grid_r.cv_results_['mean_test_score']\n",
    "gamma = np.linspace(0.001,5,100)\n",
    "#plot\n",
    "plt.plot(gamma, er)\n",
    "plt.xlabel('gamma')\n",
    "plt.ylabel('Cross-Validation error rate')\n",
    "plt.show()\n",
    "\n",
    "rbf_svc = SVC(kernel='rbf',gamma=grid_r.best_params_['gamma'])\n",
    "rbf_svc.fit(X,Y)\n",
    "test_error_rate=1-rbf_svc.score(X_test,Y_test) #testing error rate\n",
    "print('radical kernel: \\nerror rate = {:f} \\n'.format(test_error_rate))\n",
    "\n"
   ]
  },
  {
   "cell_type": "code",
   "execution_count": 48,
   "metadata": {},
   "outputs": [
    {
     "data": {
      "image/png": "[encoded data removed]",
      "text/plain": [
       "<Figure size 432x288 with 1 Axes>"
      ]
     },
     "metadata": {
      "needs_background": "light"
     },
     "output_type": "display_data"
    },
    {
     "name": "stdout",
     "output_type": "stream",
     "text": [
      "sigmoid kernel: \n",
      "error rate = 0.390244 \n",
      "\n"
     ]
    }
   ],
   "source": [
    "#sigmoid kernel\n",
    "grid_s = GridSearchCV(SVC(kernel='sigmoid'),param_grid={'gamma': np.linspace(0.001,1,100)},cv=10, scoring='accuracy', verbose=0, n_jobs=-1)\n",
    "grid_s.fit(X,Y)\n",
    "er = 1 - grid_s.cv_results_['mean_test_score']\n",
    "gamma = np.linspace(0.001,1,100)\n",
    "#plot\n",
    "plt.plot(gamma, er)\n",
    "plt.xlabel('gamma')\n",
    "plt.ylabel('Cross-Validation error rate')\n",
    "plt.show()\n",
    "\n",
    "sigmoid_svc = SVC(kernel='sigmoid',gamma=grid_s.best_params_['gamma'])\n",
    "sigmoid_svc.fit(X,Y)\n",
    "test_error_rate=1-sigmoid_svc.score(X_test,Y_test) #testing error rate\n",
    "print('sigmoid kernel: \\nerror rate = {:f} \\n'.format(test_error_rate))\n"
   ]
  },
  {
   "cell_type": "code",
   "execution_count": 49,
   "metadata": {},
   "outputs": [
    {
     "data": {
      "image/png": "[encoded data removed]",
      "text/plain": [
       "<Figure size 432x288 with 1 Axes>"
      ]
     },
     "metadata": {
      "needs_background": "light"
     },
     "output_type": "display_data"
    },
    {
     "name": "stdout",
     "output_type": "stream",
     "text": [
      "polynomial kernel: \n",
      "error rate = 0.219512 \n",
      "\n"
     ]
    }
   ],
   "source": [
    "# polynomial kernel\n",
    "grid_p = GridSearchCV(SVC(kernel='poly',gamma='scale'),param_grid={'degree': np.arange(1, 20, 1)},cv=10, scoring='accuracy', verbose=0,n_jobs=-1)\n",
    "grid_p.fit(X,Y)\n",
    "er = 1-grid_p.cv_results_['mean_test_score']\n",
    "degree =  np.arange(1,20,1)\n",
    "#plot\n",
    "plt.plot(degree, er)\n",
    "plt.xlabel('degree')\n",
    "plt.ylabel('Cross-Validation error rate')\n",
    "plt.show()\n",
    "\n",
    "poly_svc = SVC(kernel='poly',gamma=grid_p.best_params_['degree'])\n",
    "poly_svc.fit(X,Y)\n",
    "test_error_rate=1-poly_svc.score(X_test,Y_test) #testing error rate\n",
    "print('polynomial kernel: \\nerror rate = {:f} \\n'.format(test_error_rate))\n",
    "\n"
   ]
  },
  {
   "cell_type": "markdown",
   "metadata": {},
   "source": [
    "#### 4. Run Random Forest on the training data. Keeping all other parameter at default, fit the model using different number of trees (10, 20, 30,……, 1000)."
   ]
  },
  {
   "cell_type": "code",
   "execution_count": 50,
   "metadata": {},
   "outputs": [],
   "source": [
    "import warnings\n",
    "warnings.filterwarnings('ignore')\n",
    "import pandas as pd\n",
    "import numpy as np\n",
    "import matplotlib.pyplot as plt\n",
    "from sklearn.ensemble import RandomForestClassifier"
   ]
  },
  {
   "cell_type": "code",
   "execution_count": 51,
   "metadata": {},
   "outputs": [],
   "source": [
    "def Error_rate(X2,Y2,forest):\n",
    "    s = X2.shape[0]\n",
    "    n = 0\n",
    "    Y_p = forest.predict(X2)\n",
    "    for i, y in enumerate(Y_p):\n",
    "        if (y != Y2[i]):#error_rate = #points whose predict class is different form original one/#total points\n",
    "            n += 1\n",
    "    return n/float(s) "
   ]
  },
  {
   "cell_type": "code",
   "execution_count": 52,
   "metadata": {},
   "outputs": [],
   "source": [
    "#read files\n",
    "f1 = pd.read_csv('/Users/mengjiawei/Desktop/534/hw2/sonar_train1.csv',sep=',', header = None, skiprows = 1)\n",
    "f2 = pd.read_csv('/Users/mengjiawei/Desktop/534/hw2/sonar_test1.csv',sep=',', header = None, skiprows = 1)\n",
    "\n",
    "\n",
    "#read training data\n",
    "X = f1.loc[:,:59].values\n",
    "Y = f1.loc[:,60].values\n",
    "\n",
    "#read testing data\n",
    "X_test = f2.loc[:,:59].values\n",
    "Y_test = f2.loc[:,60].values"
   ]
  },
  {
   "cell_type": "code",
   "execution_count": 53,
   "metadata": {},
   "outputs": [
    {
     "name": "stdout",
     "output_type": "stream",
     "text": [
      "99\n",
      "10 0.2574850299401198\n",
      "20 0.19161676646706582\n",
      "30 0.20359281437125754\n",
      "40 0.16766467065868262\n",
      "50 0.17365269461077848\n",
      "60 0.20359281437125754\n",
      "70 0.20359281437125754\n",
      "80 0.15568862275449102\n",
      "90 0.17365269461077848\n",
      "100 0.17365269461077848\n",
      "110 0.17964071856287422\n",
      "120 0.19760479041916168\n",
      "130 0.16167664670658688\n",
      "140 0.15568862275449102\n",
      "150 0.17365269461077848\n",
      "160 0.15568862275449102\n",
      "170 0.17964071856287422\n",
      "180 0.17365269461077848\n",
      "190 0.16167664670658688\n",
      "200 0.18562874251497008\n",
      "210 0.20359281437125754\n",
      "220 0.18562874251497008\n",
      "230 0.18562874251497008\n",
      "240 0.13772455089820357\n",
      "250 0.15568862275449102\n",
      "260 0.12574850299401197\n",
      "270 0.16766467065868262\n",
      "280 0.16766467065868262\n",
      "290 0.14970059880239517\n",
      "300 0.14970059880239517\n",
      "310 0.16167664670658688\n",
      "320 0.18562874251497008\n",
      "330 0.16167664670658688\n",
      "340 0.14970059880239517\n",
      "350 0.13772455089820357\n",
      "360 0.14371257485029942\n",
      "370 0.15568862275449102\n",
      "380 0.13173652694610782\n",
      "390 0.15568862275449102\n",
      "400 0.15568862275449102\n",
      "410 0.14371257485029942\n",
      "420 0.17964071856287422\n",
      "430 0.17964071856287422\n",
      "440 0.17964071856287422\n",
      "450 0.13772455089820357\n",
      "460 0.14970059880239517\n",
      "470 0.15568862275449102\n",
      "480 0.15568862275449102\n",
      "490 0.14371257485029942\n",
      "500 0.15568862275449102\n",
      "510 0.14970059880239517\n",
      "520 0.14970059880239517\n",
      "530 0.14970059880239517\n",
      "540 0.14970059880239517\n",
      "550 0.16167664670658688\n",
      "560 0.18562874251497008\n",
      "570 0.14371257485029942\n",
      "580 0.16766467065868262\n",
      "590 0.12574850299401197\n",
      "600 0.16167664670658688\n",
      "610 0.14371257485029942\n",
      "620 0.14970059880239517\n",
      "630 0.15568862275449102\n",
      "640 0.14970059880239517\n",
      "650 0.16167664670658688\n",
      "660 0.13772455089820357\n",
      "670 0.13173652694610782\n",
      "680 0.16167664670658688\n",
      "690 0.14970059880239517\n",
      "700 0.14371257485029942\n",
      "710 0.14371257485029942\n",
      "720 0.18562874251497008\n",
      "730 0.15568862275449102\n",
      "740 0.16766467065868262\n",
      "750 0.16766467065868262\n",
      "760 0.16766467065868262\n",
      "770 0.17964071856287422\n",
      "780 0.15568862275449102\n",
      "790 0.16766467065868262\n",
      "800 0.15568862275449102\n",
      "810 0.16167664670658688\n",
      "820 0.16766467065868262\n",
      "830 0.15568862275449102\n",
      "840 0.14371257485029942\n",
      "850 0.16766467065868262\n",
      "860 0.15568862275449102\n",
      "870 0.14371257485029942\n",
      "880 0.13772455089820357\n",
      "890 0.13772455089820357\n",
      "900 0.14970059880239517\n",
      "910 0.16167664670658688\n",
      "920 0.17365269461077848\n",
      "930 0.15568862275449102\n",
      "940 0.16766467065868262\n",
      "950 0.14970059880239517\n",
      "960 0.16167664670658688\n",
      "970 0.16766467065868262\n",
      "980 0.16167664670658688\n",
      "990 0.14970059880239517\n",
      "1000 0.14970059880239517\n",
      "0 0.7200000000000006\n",
      "1 0.2800000000000001\n",
      "2 0.3600000000000007\n",
      "3 0.12000000000000023\n",
      "4 0.16000000000000056\n",
      "5 0.3600000000000007\n",
      "6 0.3600000000000007\n",
      "7 0.04000000000000033\n",
      "8 0.16000000000000056\n",
      "9 0.16000000000000056\n",
      "10 0.20000000000000015\n",
      "11 0.3200000000000004\n",
      "12 0.08000000000000065\n",
      "13 0.04000000000000033\n",
      "14 0.16000000000000056\n",
      "15 0.04000000000000033\n",
      "16 0.20000000000000015\n",
      "17 0.16000000000000056\n",
      "18 0.08000000000000065\n",
      "19 0.24000000000000046\n",
      "20 0.3600000000000007\n",
      "21 0.24000000000000046\n",
      "22 0.24000000000000046\n",
      "23 0.0799999999999999\n",
      "24 0.04000000000000033\n",
      "25 0.1599999999999998\n",
      "26 0.12000000000000023\n",
      "27 0.12000000000000023\n",
      "28 0.0\n",
      "290\n",
      "290\n"
     ]
    }
   ],
   "source": [
    "# Range of n_estimators values to explore.\n",
    "min_estimators = 10\n",
    "max_estimators = 1000\n",
    "step = 10\n",
    "number_estimators = (max_estimators - min_estimators)//step #how many trees\n",
    "\n",
    "print (number_estimators)\n",
    "\n",
    "error_rate = []\n",
    "n_estimators = []\n",
    "\n",
    "#use Random Forest \n",
    "#oob_score : bool (default=False) :Whether to use out-of-bag samples to estimate the generalization accuracy.\n",
    "for i in range(min_estimators, max_estimators + step,step):\n",
    "    clf = RandomForestClassifier(oob_score=True)\n",
    "    clf.set_params(n_estimators=i)\n",
    "    clf.fit(X, Y)\n",
    "\n",
    "    # Record the OOB error for each n_estimators=i setting.\n",
    "    oob_error = 1 - clf.oob_score_\n",
    "    n_estimators.append(i)\n",
    "    error_rate.append(oob_error)\n",
    "    print (i,oob_error)\n",
    "\n",
    "last_oob_error = error_rate[number_estimators] #oob error of n = 1000\n",
    "last_oob_error\n",
    "stabilize_estimator = 0\n",
    "#number of trees based on when the OOB error rate first stabilizes \n",
    "for i in range(number_estimators):\n",
    "    diff_rate = abs((error_rate[i] - last_oob_error)/float(last_oob_error))\n",
    "    print (i, diff_rate)\n",
    "    if (diff_rate <=0.01):\n",
    "        stabilize_estimator = n_estimators[i] \n",
    "        print (stabilize_estimator)\n",
    "        break\n",
    "    \n",
    "print (stabilize_estimator) #the stablize tree number\n"
   ]
  },
  {
   "cell_type": "code",
   "execution_count": 54,
   "metadata": {},
   "outputs": [
    {
     "data": {
      "image/png": "[encoded data removed]",
      "text/plain": [
       "<Figure size 432x288 with 1 Axes>"
      ]
     },
     "metadata": {
      "needs_background": "light"
     },
     "output_type": "display_data"
    },
    {
     "name": "stdout",
     "output_type": "stream",
     "text": [
      "Feature ranking:\n",
      "1. feature 10 (0.067639)\n",
      "2. feature 11 (0.059777)\n",
      "3. feature 9 (0.039726)\n",
      "4. feature 48 (0.039200)\n",
      "5. feature 8 (0.035087)\n",
      "6. feature 51 (0.034703)\n",
      "7. feature 36 (0.030666)\n",
      "8. feature 35 (0.027850)\n",
      "9. feature 46 (0.025517)\n",
      "10. feature 12 (0.024945)\n",
      "11. feature 45 (0.023081)\n",
      "12. feature 47 (0.022619)\n",
      "13. feature 27 (0.021826)\n",
      "14. feature 42 (0.020863)\n",
      "15. feature 44 (0.020684)\n",
      "16. feature 20 (0.020501)\n",
      "17. feature 34 (0.019379)\n",
      "18. feature 3 (0.019090)\n",
      "19. feature 50 (0.017980)\n",
      "20. feature 26 (0.017785)\n",
      "21. feature 19 (0.016637)\n",
      "22. feature 4 (0.016580)\n",
      "23. feature 33 (0.015318)\n",
      "24. feature 17 (0.014388)\n",
      "25. feature 43 (0.014198)\n",
      "26. feature 16 (0.013668)\n",
      "27. feature 5 (0.013436)\n",
      "28. feature 38 (0.013136)\n",
      "29. feature 30 (0.012809)\n",
      "30. feature 32 (0.012129)\n",
      "31. feature 22 (0.011662)\n",
      "32. feature 29 (0.011341)\n",
      "33. feature 7 (0.010802)\n",
      "34. feature 39 (0.010361)\n",
      "35. feature 37 (0.010175)\n",
      "36. feature 31 (0.010165)\n",
      "37. feature 14 (0.010149)\n",
      "38. feature 13 (0.009999)\n",
      "39. feature 15 (0.009860)\n",
      "40. feature 58 (0.009770)\n",
      "41. feature 54 (0.009720)\n",
      "42. feature 0 (0.009503)\n",
      "43. feature 41 (0.009483)\n",
      "44. feature 18 (0.009381)\n",
      "45. feature 25 (0.009164)\n",
      "46. feature 21 (0.009028)\n",
      "47. feature 24 (0.008822)\n",
      "48. feature 53 (0.008652)\n",
      "49. feature 1 (0.008593)\n",
      "50. feature 6 (0.008543)\n",
      "51. feature 55 (0.008291)\n",
      "52. feature 52 (0.007915)\n",
      "53. feature 59 (0.007867)\n",
      "54. feature 49 (0.007799)\n",
      "55. feature 23 (0.007736)\n",
      "56. feature 2 (0.007385)\n",
      "57. feature 57 (0.007130)\n",
      "58. feature 56 (0.006902)\n",
      "59. feature 40 (0.006756)\n",
      "60. feature 28 (0.005827)\n",
      "Random Forest: \n",
      "error rate = 0.195122 \n",
      "\n"
     ]
    }
   ],
   "source": [
    "# Generate the \"OOB error rate\" vs. \"n_estimators\" plot.\n",
    "plt.plot(n_estimators, error_rate)\n",
    "\n",
    "plt.xlim(min_estimators, max_estimators)\n",
    "plt.xlabel(\"n_estimators\")\n",
    "plt.ylabel(\"OOB error rate\")\n",
    "plt.show()\n",
    "\n",
    "# Build a forest and compute the feature importances\n",
    "forest = RandomForestClassifier(n_estimators = stabilize_estimator)\n",
    "forest.fit(X,Y)\n",
    "\n",
    "#importance and feature\n",
    "importances = forest.feature_importances_\n",
    "indices = np.argsort(importances)[::-1]\n",
    "\n",
    "# Print the feature ranking\n",
    "print(\"Feature ranking:\")\n",
    "for f in range(X_test.shape[1]):\n",
    "    print(\"%d. feature %d (%f)\" % (f + 1, indices[f], importances[indices[f]]))\n",
    "    \n",
    "error_rate = Error_rate(X_test,Y_test,forest)\n",
    "print('Random Forest: \\nerror rate = {:f} \\n'.format(error_rate))"
   ]
  }
 ],
 "metadata": {
  "kernelspec": {
   "display_name": "Python 3",
   "language": "python",
   "name": "python3"
  },
  "language_info": {
   "codemirror_mode": {
    "name": "ipython",
    "version": 3
   },
   "file_extension": ".py",
   "mimetype": "text/x-python",
   "name": "python",
   "nbconvert_exporter": "python",
   "pygments_lexer": "ipython3",
   "version": "3.7.10"
  }
 },
 "nbformat": 4,
 "nbformat_minor": 2
}

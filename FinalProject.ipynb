{
 "cells": [
  {
   "cell_type": "markdown",
   "id": "86b0ad3a",
   "metadata": {},
   "source": [
    "# BIOS 534 Final homework"
   ]
  },
  {
   "cell_type": "markdown",
   "id": "960fa604",
   "metadata": {},
   "source": [
    "### Jiawei Meng (2408817)"
   ]
  },
  {
   "cell_type": "markdown",
   "id": "540a2f12",
   "metadata": {},
   "source": [
    "#### read the file directly from the website"
   ]
  },
  {
   "cell_type": "code",
   "execution_count": 7,
   "id": "822bde5e",
   "metadata": {},
   "outputs": [],
   "source": [
    "import matplotlib.pyplot as plt\n",
    "import pandas as pd\n",
    "import numpy as np\n",
    "import sklearn as sk\n",
    "wines=pd.read_csv(\"https://raw.githubusercontent.com/steviep42/bios534_spring_2020/master/data/exp_wines_na.csv\")"
   ]
  },
  {
   "cell_type": "code",
   "execution_count": 8,
   "id": "2670520b",
   "metadata": {},
   "outputs": [
    {
     "name": "stdout",
     "output_type": "stream",
     "text": [
      "<class 'pandas.core.frame.DataFrame'>\n",
      "RangeIndex: 6497 entries, 0 to 6496\n",
      "Data columns (total 13 columns):\n",
      " #   Column                Non-Null Count  Dtype  \n",
      "---  ------                --------------  -----  \n",
      " 0   fixed.acidity         6497 non-null   float64\n",
      " 1   volatile.acidity      5848 non-null   float64\n",
      " 2   citric.acid           6497 non-null   float64\n",
      " 3   residual.sugar        6497 non-null   float64\n",
      " 4   chlorides             6497 non-null   float64\n",
      " 5   free.sulfur.dioxide   6497 non-null   float64\n",
      " 6   total.sulfur.dioxide  6497 non-null   float64\n",
      " 7   density               6497 non-null   float64\n",
      " 8   pH                    6497 non-null   float64\n",
      " 9   sulphates             6497 non-null   float64\n",
      " 10  alcohol               6497 non-null   float64\n",
      " 11  quality               6497 non-null   int64  \n",
      " 12  color                 6497 non-null   object \n",
      "dtypes: float64(11), int64(1), object(1)\n",
      "memory usage: 660.0+ KB\n"
     ]
    }
   ],
   "source": [
    "wines.info()"
   ]
  },
  {
   "cell_type": "markdown",
   "id": "64fc99ee",
   "metadata": {},
   "source": [
    "#### 1) Separate the predictor features from the target feature and encode the target feature to a 0 and 1"
   ]
  },
  {
   "cell_type": "code",
   "execution_count": 9,
   "id": "bebb193a",
   "metadata": {},
   "outputs": [],
   "source": [
    "y = np.where(wines['color']=='red',1,0)\n",
    "x = wines.iloc[:,0:12]"
   ]
  },
  {
   "cell_type": "markdown",
   "id": "795f615a",
   "metadata": {},
   "source": [
    "#### 2) Check For missing values – print out (using code) how many and in what column."
   ]
  },
  {
   "cell_type": "code",
   "execution_count": 12,
   "id": "bc66e7e6",
   "metadata": {},
   "outputs": [
    {
     "name": "stdout",
     "output_type": "stream",
     "text": [
      "fixed.acidity             0\n",
      "volatile.acidity        649\n",
      "citric.acid               0\n",
      "residual.sugar            0\n",
      "chlorides                 0\n",
      "free.sulfur.dioxide       0\n",
      "total.sulfur.dioxide      0\n",
      "density                   0\n",
      "pH                        0\n",
      "sulphates                 0\n",
      "alcohol                   0\n",
      "quality                   0\n",
      "color                     0\n",
      "dtype: int64\n"
     ]
    }
   ],
   "source": [
    "print(wines.isnull().sum())"
   ]
  },
  {
   "cell_type": "markdown",
   "id": "b1bba16c",
   "metadata": {},
   "source": [
    "####  3) Apply KNN imputation to fill in the null values in the predictor variables"
   ]
  },
  {
   "cell_type": "code",
   "execution_count": 13,
   "id": "d02b00d5",
   "metadata": {},
   "outputs": [],
   "source": [
    "from sklearn.impute import KNNImputer\n",
    "imputer = KNNImputer(n_neighbors=2)\n",
    "x = imputer.fit_transform(x)"
   ]
  },
  {
   "cell_type": "markdown",
   "id": "ee75f18b",
   "metadata": {},
   "source": [
    "#### 4) Create a boxplot of all the numeric predictors (See Figure 1 below)"
   ]
  },
  {
   "cell_type": "code",
   "execution_count": 16,
   "id": "f70393f7",
   "metadata": {},
   "outputs": [
    {
     "data": {
      "image/png": "[encoded data removed]",
      "text/plain": [
       "<Figure size 432x288 with 1 Axes>"
      ]
     },
     "metadata": {
      "needs_background": "light"
     },
     "output_type": "display_data"
    }
   ],
   "source": [
    "df=pd.DataFrame(x,columns=wines.iloc[:,0:12].columns)\n",
    "df.boxplot(grid=False, rot=90)\n",
    "plt.xticks(rotation=90)\n",
    "plt.show()"
   ]
  },
  {
   "cell_type": "markdown",
   "id": "1c675481",
   "metadata": {},
   "source": [
    "#### 5) Create a Training / Test pair with an 80/20 proportion with a random_state=0"
   ]
  },
  {
   "cell_type": "code",
   "execution_count": 17,
   "id": "1620b013",
   "metadata": {},
   "outputs": [],
   "source": [
    "from sklearn.model_selection import train_test_split\n",
    "x_train, x_test, y_train, y_test = train_test_split(x, y, test_size=0.2,random_state=0)"
   ]
  },
  {
   "cell_type": "markdown",
   "id": "7dd9047c",
   "metadata": {},
   "source": [
    "#### 6) Fit the Training Data Using a KNN classifier using K-Fold(K-10) CV and report the mean AUC of the 10 folds. In your call to KFolds use a random_state=7 and shuffle=True"
   ]
  },
  {
   "cell_type": "code",
   "execution_count": 19,
   "id": "07e0271b",
   "metadata": {},
   "outputs": [
    {
     "name": "stdout",
     "output_type": "stream",
     "text": [
      "the mean AUC of the 10 folds is 0.7772860791171753\n"
     ]
    }
   ],
   "source": [
    "from sklearn.neighbors import KNeighborsClassifier\n",
    "from sklearn.model_selection import KFold\n",
    "from sklearn.metrics import roc_curve\n",
    "from sklearn.metrics import auc\n",
    "\n",
    "mean_auc = 0\n",
    "# Use the KFold function to provide train/test indices to split data in train and test sets\n",
    "kf = KFold(n_splits=10, random_state = 7, shuffle = True)\n",
    "\n",
    "for train_index, test_index in kf.split(x_train,y_train):\n",
    "    X_train, X_test = x_train[train_index], x_train[test_index]\n",
    "    Y_train, Y_test = y_train[train_index], y_train[test_index]\n",
    "    \n",
    "    # train model and make predictions\n",
    "    model = KNeighborsClassifier()\n",
    "    model.fit(X_train, Y_train)\n",
    "    preds = model.predict_proba(X_test)[:, 1]\n",
    "    \n",
    "    # compute AUC metric for this CV fold\n",
    "    fpr, tpr, thresholds = roc_curve(Y_test, preds)\n",
    "    roc_auc = auc(fpr, tpr)\n",
    "    mean_auc += roc_auc\n",
    "\n",
    "print('the mean AUC of the 10 folds is' , mean_auc/10)"
   ]
  },
  {
   "cell_type": "markdown",
   "id": "d4dad252",
   "metadata": {},
   "source": [
    "#### 7) Go back and scale the imputed version of the predictor variables. Using the StandardScaler is fine."
   ]
  },
  {
   "cell_type": "code",
   "execution_count": 20,
   "id": "2a0b13de",
   "metadata": {},
   "outputs": [],
   "source": [
    "from sklearn.preprocessing import StandardScaler\n",
    "scale = StandardScaler()\n",
    "x = scale.fit_transform(x)"
   ]
  },
  {
   "cell_type": "markdown",
   "id": "681385be",
   "metadata": {},
   "source": [
    "#### 8) Create a Training / Test pair of the scaled data with an 80/20 proportion with a random_state=0"
   ]
  },
  {
   "cell_type": "code",
   "execution_count": 21,
   "id": "400189e3",
   "metadata": {},
   "outputs": [],
   "source": [
    "x_train, x_test, y_train, y_test = train_test_split(x, y, test_size=0.2,random_state=0)"
   ]
  },
  {
   "cell_type": "markdown",
   "id": "359730ec",
   "metadata": {},
   "source": [
    "#### 9) Fit the Training Data Using a KNN classifier using K-Fold(K-10) CV and report the mean AUC of the 10 folds. In your call to KFolds use a random_state=7 and shuffle=True. Is there an improvement in the AUC ?"
   ]
  },
  {
   "cell_type": "code",
   "execution_count": 22,
   "id": "c820c616",
   "metadata": {},
   "outputs": [
    {
     "name": "stdout",
     "output_type": "stream",
     "text": [
      "the mean AUC of the 10 folds is 0.8019720563934115\n"
     ]
    }
   ],
   "source": [
    "mean_auc = 0.0\n",
    "\n",
    "# Use the KFold function to provide train/test indices to split data in train and test sets\n",
    "kf = KFold(n_splits=10, random_state = 7, shuffle = True)\n",
    "\n",
    "for train_index, test_index in kf.split(x_train,y_train):\n",
    "    X_train, X_test = x_train[train_index], x_train[test_index]\n",
    "    Y_train, Y_test = y_train[train_index], y_train[test_index]\n",
    "\n",
    "    # train model and make predictions\n",
    "    model = KNeighborsClassifier()\n",
    "    model.fit(X_train, Y_train)\n",
    "    preds = model.predict_proba(X_test)[:, 1]\n",
    "    \n",
    "    # compute AUC metric for this CV fold\n",
    "    fpr, tpr, thresholds = roc_curve(Y_test, preds)\n",
    "    roc_auc = auc(fpr, tpr)\n",
    "    mean_auc += roc_auc\n",
    "\n",
    "print('the mean AUC of the 10 folds is' , mean_auc/10)"
   ]
  },
  {
   "cell_type": "markdown",
   "id": "53cb351b",
   "metadata": {},
   "source": [
    "#### There is an improvement in the AUC."
   ]
  },
  {
   "cell_type": "markdown",
   "id": "75f80fe7",
   "metadata": {},
   "source": [
    "#### 10) Using the scaled data, apply a PCA transformation that retains two components and repeat step 9. Is there a difference in the mean AUC ?"
   ]
  },
  {
   "cell_type": "code",
   "execution_count": 24,
   "id": "9aea01ef",
   "metadata": {},
   "outputs": [
    {
     "name": "stdout",
     "output_type": "stream",
     "text": [
      "the mean AUC of the 10 folds is 0.8039979281709355\n"
     ]
    }
   ],
   "source": [
    "from sklearn.decomposition import PCA\n",
    "\n",
    "pca = PCA(n_components=2)\n",
    "x = pca.fit_transform(x)\n",
    "x_train, x_test, y_train, y_test = train_test_split(x, y, test_size=0.2,random_state=0)\n",
    "\n",
    "mean_auc = 0.0\n",
    "\n",
    "# Use the KFold function to provide train/test indices to split data in train and test sets\n",
    "kf = KFold(n_splits=10, random_state = 7, shuffle = True)\n",
    "\n",
    "for train_index, test_index in kf.split(x_train,y_train):\n",
    "    X_train, X_test = x_train[train_index], x_train[test_index]\n",
    "    Y_train, Y_test = y_train[train_index], y_train[test_index]\n",
    "\n",
    "    # train model and make predictions\n",
    "    neighbor = KNeighborsClassifier()\n",
    "    neighbor.fit(X_train, Y_train)\n",
    "    preds = neighbor.predict_proba(X_test)[:, 1]\n",
    "\n",
    "    # compute AUC metric for this CV fold\n",
    "    fpr, tpr, thresholds = roc_curve(Y_test, preds)\n",
    "    roc_auc = auc(fpr, tpr)\n",
    "    mean_auc += roc_auc\n",
    "\n",
    "print('the mean AUC of the 10 folds is' , mean_auc/10)"
   ]
  },
  {
   "cell_type": "markdown",
   "id": "c91f48ff",
   "metadata": {},
   "source": [
    "#### There is a little difference in the mean AUC."
   ]
  },
  {
   "cell_type": "code",
   "execution_count": null,
   "id": "fb803d22",
   "metadata": {},
   "outputs": [],
   "source": []
  }
 ],
 "metadata": {
  "kernelspec": {
   "display_name": "Python 3",
   "language": "python",
   "name": "python3"
  },
  "language_info": {
   "codemirror_mode": {
    "name": "ipython",
    "version": 3
   },
   "file_extension": ".py",
   "mimetype": "text/x-python",
   "name": "python",
   "nbconvert_exporter": "python",
   "pygments_lexer": "ipython3",
   "version": "3.7.10"
  }
 },
 "nbformat": 4,
 "nbformat_minor": 5
}
